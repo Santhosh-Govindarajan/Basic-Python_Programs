{
  "nbformat": 4,
  "nbformat_minor": 0,
  "metadata": {
    "colab": {
      "provenance": []
    },
    "kernelspec": {
      "name": "python3",
      "display_name": "Python 3"
    },
    "language_info": {
      "name": "python"
    }
  },
  "cells": [
    {
      "cell_type": "code",
      "execution_count": 13,
      "metadata": {
        "id": "b5GHXICbTdzA"
      },
      "outputs": [],
      "source": [
        "class Calculator:\n",
        "  def __init__(self,num1,num2):\n",
        "    if num1>num2:\n",
        "      self.a = num1\n",
        "      self.b = num2\n",
        "    else:\n",
        "      self.a=num2\n",
        "      self.b=num1\n",
        "\n",
        "  def Addition(self):\n",
        "    Sum = self.a + self.b\n",
        "    print(Sum)\n",
        "\n",
        "  def Subtraction(self):\n",
        "    Sub = self.a - self.b\n",
        "    print(Sub)\n",
        "\n",
        "  def Multiplication(self):\n",
        "    Mul = self.a * self.b\n",
        "    print(Mul)\n",
        "\n",
        "  def Division(self):\n",
        "    Divide = self.a/self.b\n",
        "    print(Divide)\n",
        "\n"
      ]
    },
    {
      "cell_type": "code",
      "source": [
        "a,b = map(int,input().split())\n",
        "cal = Calculator(a,b)"
      ],
      "metadata": {
        "id": "RNlQynUHjn27",
        "colab": {
          "base_uri": "https://localhost:8080/"
        },
        "outputId": "179d8b3f-7e75-4018-c6d8-bd768fc6a07e"
      },
      "execution_count": 21,
      "outputs": [
        {
          "name": "stdout",
          "output_type": "stream",
          "text": [
            "200 100\n"
          ]
        }
      ]
    },
    {
      "cell_type": "code",
      "source": [
        "cal.Addition()"
      ],
      "metadata": {
        "colab": {
          "base_uri": "https://localhost:8080/"
        },
        "id": "o5oWaoOTmmAx",
        "outputId": "2a0c382c-c8a4-4262-d9b8-934ae68fb7e9"
      },
      "execution_count": 20,
      "outputs": [
        {
          "output_type": "stream",
          "name": "stdout",
          "text": [
            "300\n"
          ]
        }
      ]
    },
    {
      "cell_type": "code",
      "source": [
        "cal.Subtraction()"
      ],
      "metadata": {
        "colab": {
          "base_uri": "https://localhost:8080/"
        },
        "id": "9NABs357nu1p",
        "outputId": "bec7ca93-d24b-4249-950d-f0aa34d58a19"
      },
      "execution_count": 23,
      "outputs": [
        {
          "output_type": "stream",
          "name": "stdout",
          "text": [
            "100\n"
          ]
        }
      ]
    },
    {
      "cell_type": "code",
      "source": [
        "cal.Multiplication()"
      ],
      "metadata": {
        "colab": {
          "base_uri": "https://localhost:8080/"
        },
        "id": "Qm0qKuyooAGY",
        "outputId": "81cc60fd-7576-4e21-c0fe-90bbd683ba73"
      },
      "execution_count": 24,
      "outputs": [
        {
          "output_type": "stream",
          "name": "stdout",
          "text": [
            "20000\n"
          ]
        }
      ]
    },
    {
      "cell_type": "code",
      "source": [
        "cal.Division()"
      ],
      "metadata": {
        "colab": {
          "base_uri": "https://localhost:8080/"
        },
        "id": "N9IWmRpmoDPW",
        "outputId": "e7a7fb92-fde8-4876-87c1-58a9661f04ca"
      },
      "execution_count": 25,
      "outputs": [
        {
          "output_type": "stream",
          "name": "stdout",
          "text": [
            "2.0\n"
          ]
        }
      ]
    }
  ]
}